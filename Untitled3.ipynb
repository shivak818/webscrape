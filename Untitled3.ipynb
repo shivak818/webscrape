{
  "nbformat": 4,
  "nbformat_minor": 0,
  "metadata": {
    "colab": {
      "provenance": []
    },
    "kernelspec": {
      "name": "python3",
      "display_name": "Python 3"
    },
    "language_info": {
      "name": "python"
    }
  },
  "cells": [
    {
      "cell_type": "code",
      "source": [
        "!pip install selenium\n"
      ],
      "metadata": {
        "id": "wvLoF-NY7sG4"
      },
      "execution_count": null,
      "outputs": []
    },
    {
      "cell_type": "code",
      "source": [
        "from selenium import webdriver\n",
        "from selenium.webdriver.common.by import By\n",
        "from selenium.webdriver.support.ui import WebDriverWait\n",
        "from selenium.webdriver.support import expected_conditions as EC\n",
        "import time\n"
      ],
      "metadata": {
        "id": "6OuWABXZ7wf6"
      },
      "execution_count": null,
      "outputs": []
    },
    {
      "cell_type": "code",
      "source": [
        "!apt-get update\n",
        "!apt-get install chromium-driver\n",
        "\n",
        "\n"
      ],
      "metadata": {
        "id": "i9be1vic91OC"
      },
      "execution_count": null,
      "outputs": []
    },
    {
      "cell_type": "code",
      "source": [
        "def web_driver():\n",
        "  options = webdriver.ChromeOptions()\n",
        "  options.add_argument('--headless')\n",
        "  options.add_argument('--verbose')\n",
        "  options.add_argument('--no-sandbox')\n",
        "  options.add_argument('--disable-dev-shm-usage')\n",
        "  options.add_argument('--disable-gpu')\n",
        "  driver = webdriver.Chrome(options=options)\n",
        "  return driver"
      ],
      "metadata": {
        "id": "gVbWAwcq-_Ux"
      },
      "execution_count": null,
      "outputs": []
    },
    {
      "cell_type": "code",
      "source": [
        "  def scrape_projects(driver):\n",
        "    url = \"https://hprera.nic.in/PublicDashboard\"\n",
        "    driver.get(url)\n",
        "\n",
        "    wait = WebDriverWait(driver, 100)\n",
        "\n",
        "    # Click \"Registered Projects\" tab\n",
        "    registered_projects_heading = wait.until(EC.element_to_be_clickable((By.CSS_SELECTOR, \"a.nav-link.active[data-toggle='tab'][data-target='#reg-Projects']\")))\n",
        "    registered_projects_heading.click()\n",
        "\n",
        "    project_details = []\n",
        "\n",
        "    # CSS selectors for the first 6 projects\n",
        "    project_selectors = [\n",
        "        \"#reg-Projects > div > div > div:nth-child(1) > div > div > a\",\n",
        "        \"#reg-Projects > div > div > div:nth-child(2) > div > div > a\",\n",
        "        \"#reg-Projects > div > div > div:nth-child(3) > div > div > a\",\n",
        "        \"#reg-Projects > div > div > div:nth-child(4) > div > div > a\",\n",
        "        \"#reg-Projects > div > div > div:nth-child(5) > div > div > a\",\n",
        "        \"#reg-Projects > div > div > div:nth-child(6) > div > div > a\"\n",
        "    ]\n",
        "\n",
        "    for selector in project_selectors:\n",
        "        project_link = wait.until(EC.element_to_be_clickable((By.CSS_SELECTOR, selector)))\n",
        "        project_link.click()\n",
        "\n",
        "        time.sleep(20)  # Wait for the details page to load\n",
        "\n",
        "        # Extract project details\n",
        "        name = driver.find_element(By.CSS_SELECTOR, \"#project-menu-html > div:nth-child(2) > div:nth-child(1) > div > table > tbody > tr:nth-child(1) > td.fw-600\").text\n",
        "        pan_no = driver.find_element(By.CSS_SELECTOR, \"#project-menu-html > div:nth-child(2) > div:nth-child(1) > div > table > tbody > tr:nth-child(6) > td:nth-child(2) > span\").text\n",
        "        gstin_no = driver.find_element(By.CSS_SELECTOR, \"#project-menu-html > div:nth-child(2) > div:nth-child(1) > div > table > tbody > tr:nth-child(13) > td:nth-child(2) > span\").text\n",
        "        address = driver.find_element(By.CSS_SELECTOR, \"#project-menu-html > div:nth-child(2) > div:nth-child(1) > div > table > tbody > tr:nth-child(12) > td:nth-child(2) > span\").text\n",
        "\n",
        "        project_info = {\n",
        "            \"GST No.\": gstin_no,\n",
        "            \"PAN No.\": pan_no,\n",
        "            \"Name\": name,\n",
        "            \"Address\": address\n",
        "        }\n",
        "        project_details.append(project_info)\n",
        "\n",
        "        # Close the details popup\n",
        "        close_button = wait.until(EC.element_to_be_clickable((By.XPATH, \"//button[contains(text(), 'Close')]\")))\n",
        "        close_button.click()\n",
        "\n",
        "        time.sleep(1)\n",
        "\n",
        "    return project_details\n",
        "\n",
        "\n",
        "# Call the scrape_projects function\n",
        "scraped_projects = scrape_projects(driver)\n",
        "\n",
        "# Print the scraped data\n",
        "print(scraped_projects)\n",
        "\n",
        "# Write the scraped data to CSV\n",
        "csv_filename = \"scraped_projects.csv\"\n",
        "with open(csv_filename, 'w', newline='', encoding='utf-8') as csvfile:\n",
        "    fieldnames = [\"Name\", \"Address\", \"GST No.\", \"PAN No.\"]\n",
        "    writer = csv.DictWriter(csvfile, fieldnames=fieldnames)\n",
        "\n",
        "    writer.writeheader()\n",
        "    for project in scraped_projects:\n",
        "        writer.writerow(project)\n",
        "\n",
        "\n",
        "\n",
        "print(f\"Scraped data has been saved to '{csv_filename}'.\")\n"
      ],
      "metadata": {
        "id": "fEmVReQP_3z0"
      },
      "execution_count": null,
      "outputs": []
    }
  ]
}